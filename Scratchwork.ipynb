{
 "cells": [
  {
   "cell_type": "code",
   "execution_count": 1,
   "metadata": {
    "ExecuteTime": {
     "end_time": "2019-06-05T18:48:49.236729Z",
     "start_time": "2019-06-05T18:48:48.324951Z"
    }
   },
   "outputs": [],
   "source": [
    "import sqlite3 \n",
    "import pandas as pd\n",
    "#import pandas_profiling as pp\n",
    "import numpy as np\n",
    "\n",
    "import statsmodels.api as sm"
   ]
  },
  {
   "cell_type": "code",
   "execution_count": 2,
   "metadata": {
    "ExecuteTime": {
     "end_time": "2019-06-05T18:48:49.243067Z",
     "start_time": "2019-06-05T18:48:49.239642Z"
    }
   },
   "outputs": [],
   "source": [
    "conn = sqlite3.connect('traffic.db')"
   ]
  },
  {
   "cell_type": "code",
   "execution_count": 3,
   "metadata": {
    "ExecuteTime": {
     "end_time": "2019-06-05T18:48:49.283082Z",
     "start_time": "2019-06-05T18:48:49.245266Z"
    }
   },
   "outputs": [
    {
     "data": {
      "text/html": [
       "<div>\n",
       "<style scoped>\n",
       "    .dataframe tbody tr th:only-of-type {\n",
       "        vertical-align: middle;\n",
       "    }\n",
       "\n",
       "    .dataframe tbody tr th {\n",
       "        vertical-align: top;\n",
       "    }\n",
       "\n",
       "    .dataframe thead th {\n",
       "        text-align: right;\n",
       "    }\n",
       "</style>\n",
       "<table border=\"1\" class=\"dataframe\">\n",
       "  <thead>\n",
       "    <tr style=\"text-align: right;\">\n",
       "      <th></th>\n",
       "      <th>type</th>\n",
       "      <th>name</th>\n",
       "      <th>tbl_name</th>\n",
       "      <th>rootpage</th>\n",
       "      <th>sql</th>\n",
       "    </tr>\n",
       "  </thead>\n",
       "  <tbody>\n",
       "    <tr>\n",
       "      <th>0</th>\n",
       "      <td>table</td>\n",
       "      <td>traffic</td>\n",
       "      <td>traffic</td>\n",
       "      <td>2</td>\n",
       "      <td>CREATE TABLE traffic(\\n  \"SeqID\" TEXT,\\n  \"Dat...</td>\n",
       "    </tr>\n",
       "  </tbody>\n",
       "</table>\n",
       "</div>"
      ],
      "text/plain": [
       "    type     name tbl_name  rootpage  \\\n",
       "0  table  traffic  traffic         2   \n",
       "\n",
       "                                                 sql  \n",
       "0  CREATE TABLE traffic(\\n  \"SeqID\" TEXT,\\n  \"Dat...  "
      ]
     },
     "execution_count": 3,
     "metadata": {},
     "output_type": "execute_result"
    }
   ],
   "source": [
    "sql_master = \"\"\"SELECT * FROM sqlite_master\"\"\"\n",
    "pd.read_sql_query(sql_master, conn)"
   ]
  },
  {
   "cell_type": "code",
   "execution_count": 4,
   "metadata": {
    "ExecuteTime": {
     "end_time": "2019-06-05T18:48:49.292977Z",
     "start_time": "2019-06-05T18:48:49.285060Z"
    }
   },
   "outputs": [
    {
     "data": {
      "text/html": [
       "<div>\n",
       "<style scoped>\n",
       "    .dataframe tbody tr th:only-of-type {\n",
       "        vertical-align: middle;\n",
       "    }\n",
       "\n",
       "    .dataframe tbody tr th {\n",
       "        vertical-align: top;\n",
       "    }\n",
       "\n",
       "    .dataframe thead th {\n",
       "        text-align: right;\n",
       "    }\n",
       "</style>\n",
       "<table border=\"1\" class=\"dataframe\">\n",
       "  <thead>\n",
       "    <tr style=\"text-align: right;\">\n",
       "      <th></th>\n",
       "      <th>sql</th>\n",
       "    </tr>\n",
       "  </thead>\n",
       "  <tbody>\n",
       "    <tr>\n",
       "      <th>0</th>\n",
       "      <td>CREATE TABLE traffic(\\n  \"SeqID\" TEXT,\\n  \"Dat...</td>\n",
       "    </tr>\n",
       "  </tbody>\n",
       "</table>\n",
       "</div>"
      ],
      "text/plain": [
       "                                                 sql\n",
       "0  CREATE TABLE traffic(\\n  \"SeqID\" TEXT,\\n  \"Dat..."
      ]
     },
     "execution_count": 4,
     "metadata": {},
     "output_type": "execute_result"
    }
   ],
   "source": [
    "sql_master = \"\"\"SELECT sql FROM sqlite_master\"\"\"\n",
    "pd.read_sql_query(sql_master, conn)"
   ]
  },
  {
   "cell_type": "code",
   "execution_count": 5,
   "metadata": {
    "ExecuteTime": {
     "end_time": "2019-06-05T18:49:31.309675Z",
     "start_time": "2019-06-05T18:48:49.294724Z"
    }
   },
   "outputs": [],
   "source": [
    "sql_all = \"SELECT * FROM traffic\"\n",
    "all_df = pd.read_sql_query(sql_all, conn)"
   ]
  },
  {
   "cell_type": "code",
   "execution_count": 6,
   "metadata": {
    "ExecuteTime": {
     "end_time": "2019-06-05T18:49:31.333643Z",
     "start_time": "2019-06-05T18:49:31.323519Z"
    }
   },
   "outputs": [],
   "source": [
    "#pp.ProfileReport(all_df)"
   ]
  },
  {
   "cell_type": "code",
   "execution_count": 7,
   "metadata": {
    "ExecuteTime": {
     "end_time": "2019-06-05T18:50:07.969536Z",
     "start_time": "2019-06-05T18:49:31.339381Z"
    }
   },
   "outputs": [
    {
     "data": {
      "text/html": [
       "<div>\n",
       "<style scoped>\n",
       "    .dataframe tbody tr th:only-of-type {\n",
       "        vertical-align: middle;\n",
       "    }\n",
       "\n",
       "    .dataframe tbody tr th {\n",
       "        vertical-align: top;\n",
       "    }\n",
       "\n",
       "    .dataframe thead th {\n",
       "        text-align: right;\n",
       "    }\n",
       "</style>\n",
       "<table border=\"1\" class=\"dataframe\">\n",
       "  <thead>\n",
       "    <tr style=\"text-align: right;\">\n",
       "      <th></th>\n",
       "      <th>SeqID</th>\n",
       "      <th>Date Of Stop</th>\n",
       "      <th>Time Of Stop</th>\n",
       "      <th>Agency</th>\n",
       "      <th>SubAgency</th>\n",
       "      <th>Description</th>\n",
       "      <th>Location</th>\n",
       "      <th>Latitude</th>\n",
       "      <th>Longitude</th>\n",
       "      <th>Accident</th>\n",
       "      <th>...</th>\n",
       "      <th>Driver City</th>\n",
       "      <th>Driver State</th>\n",
       "      <th>DL State</th>\n",
       "      <th>Arrest Type</th>\n",
       "      <th>Geolocation</th>\n",
       "      <th>Council Districts</th>\n",
       "      <th>Councils</th>\n",
       "      <th>Communities</th>\n",
       "      <th>Zip Codes</th>\n",
       "      <th>Municipalities</th>\n",
       "    </tr>\n",
       "  </thead>\n",
       "  <tbody>\n",
       "    <tr>\n",
       "      <th>count</th>\n",
       "      <td>1529036</td>\n",
       "      <td>1529036</td>\n",
       "      <td>1529036</td>\n",
       "      <td>1529036</td>\n",
       "      <td>1529036</td>\n",
       "      <td>1529036</td>\n",
       "      <td>1529036</td>\n",
       "      <td>1529036</td>\n",
       "      <td>1529036</td>\n",
       "      <td>1529036</td>\n",
       "      <td>...</td>\n",
       "      <td>1529036</td>\n",
       "      <td>1529036</td>\n",
       "      <td>1529036</td>\n",
       "      <td>1529036</td>\n",
       "      <td>1529036</td>\n",
       "      <td>1529036</td>\n",
       "      <td>1529036</td>\n",
       "      <td>1529036</td>\n",
       "      <td>1529036</td>\n",
       "      <td>1529036</td>\n",
       "    </tr>\n",
       "    <tr>\n",
       "      <th>unique</th>\n",
       "      <td>867384</td>\n",
       "      <td>2710</td>\n",
       "      <td>1440</td>\n",
       "      <td>1</td>\n",
       "      <td>9</td>\n",
       "      <td>13987</td>\n",
       "      <td>210296</td>\n",
       "      <td>298798</td>\n",
       "      <td>339125</td>\n",
       "      <td>6</td>\n",
       "      <td>...</td>\n",
       "      <td>7940</td>\n",
       "      <td>69</td>\n",
       "      <td>71</td>\n",
       "      <td>19</td>\n",
       "      <td>749951</td>\n",
       "      <td>6</td>\n",
       "      <td>6</td>\n",
       "      <td>63</td>\n",
       "      <td>145</td>\n",
       "      <td>25</td>\n",
       "    </tr>\n",
       "    <tr>\n",
       "      <th>top</th>\n",
       "      <td>33c49de3-9e36-4f36-9326-b59a95e86fe8</td>\n",
       "      <td>03/17/2015</td>\n",
       "      <td>23:30:00</td>\n",
       "      <td>MCP</td>\n",
       "      <td>4th District, Wheaton</td>\n",
       "      <td>DRIVER FAILURE TO OBEY PROPERLY PLACED TRAFFIC...</td>\n",
       "      <td>WAYNE AVE @ DALE DR</td>\n",
       "      <td>0</td>\n",
       "      <td>0</td>\n",
       "      <td>No</td>\n",
       "      <td>...</td>\n",
       "      <td>SILVER SPRING</td>\n",
       "      <td>MD</td>\n",
       "      <td>MD</td>\n",
       "      <td>A - Marked Patrol</td>\n",
       "      <td>(0.0, 0.0)</td>\n",
       "      <td>4</td>\n",
       "      <td>4</td>\n",
       "      <td>36</td>\n",
       "      <td>17</td>\n",
       "      <td>1</td>\n",
       "    </tr>\n",
       "    <tr>\n",
       "      <th>freq</th>\n",
       "      <td>59</td>\n",
       "      <td>1281</td>\n",
       "      <td>2312</td>\n",
       "      <td>1529036</td>\n",
       "      <td>375716</td>\n",
       "      <td>125683</td>\n",
       "      <td>2172</td>\n",
       "      <td>110485</td>\n",
       "      <td>110485</td>\n",
       "      <td>1482066</td>\n",
       "      <td>...</td>\n",
       "      <td>380216</td>\n",
       "      <td>1379705</td>\n",
       "      <td>1329309</td>\n",
       "      <td>1267088</td>\n",
       "      <td>110485</td>\n",
       "      <td>334292</td>\n",
       "      <td>334292</td>\n",
       "      <td>184196</td>\n",
       "      <td>131235</td>\n",
       "      <td>1161876</td>\n",
       "    </tr>\n",
       "  </tbody>\n",
       "</table>\n",
       "<p>4 rows × 41 columns</p>\n",
       "</div>"
      ],
      "text/plain": [
       "                                       SeqID Date Of Stop Time Of Stop  \\\n",
       "count                                1529036      1529036      1529036   \n",
       "unique                                867384         2710         1440   \n",
       "top     33c49de3-9e36-4f36-9326-b59a95e86fe8   03/17/2015     23:30:00   \n",
       "freq                                      59         1281         2312   \n",
       "\n",
       "         Agency              SubAgency  \\\n",
       "count   1529036                1529036   \n",
       "unique        1                      9   \n",
       "top         MCP  4th District, Wheaton   \n",
       "freq    1529036                 375716   \n",
       "\n",
       "                                              Description  \\\n",
       "count                                             1529036   \n",
       "unique                                              13987   \n",
       "top     DRIVER FAILURE TO OBEY PROPERLY PLACED TRAFFIC...   \n",
       "freq                                               125683   \n",
       "\n",
       "                   Location Latitude Longitude Accident      ...        \\\n",
       "count               1529036  1529036   1529036  1529036      ...         \n",
       "unique               210296   298798    339125        6      ...         \n",
       "top     WAYNE AVE @ DALE DR        0         0       No      ...         \n",
       "freq                   2172   110485    110485  1482066      ...         \n",
       "\n",
       "          Driver City Driver State DL State        Arrest Type Geolocation  \\\n",
       "count         1529036      1529036  1529036            1529036     1529036   \n",
       "unique           7940           69       71                 19      749951   \n",
       "top     SILVER SPRING           MD       MD  A - Marked Patrol  (0.0, 0.0)   \n",
       "freq           380216      1379705  1329309            1267088      110485   \n",
       "\n",
       "       Council Districts Councils Communities Zip Codes Municipalities  \n",
       "count            1529036  1529036     1529036   1529036        1529036  \n",
       "unique                 6        6          63       145             25  \n",
       "top                    4        4          36        17              1  \n",
       "freq              334292   334292      184196    131235        1161876  \n",
       "\n",
       "[4 rows x 41 columns]"
      ]
     },
     "execution_count": 7,
     "metadata": {},
     "output_type": "execute_result"
    }
   ],
   "source": [
    "all_df.describe()"
   ]
  },
  {
   "cell_type": "code",
   "execution_count": 8,
   "metadata": {
    "ExecuteTime": {
     "end_time": "2019-06-05T18:50:08.415522Z",
     "start_time": "2019-06-05T18:50:07.977796Z"
    }
   },
   "outputs": [
    {
     "data": {
      "text/plain": [
       "Warning     760397\n",
       "Citation    693505\n",
       "ESERO        74235\n",
       "SERO           899\n",
       "Name: Violation Type, dtype: int64"
      ]
     },
     "execution_count": 8,
     "metadata": {},
     "output_type": "execute_result"
    }
   ],
   "source": [
    "all_df['Violation Type'].value_counts()"
   ]
  },
  {
   "cell_type": "code",
   "execution_count": 9,
   "metadata": {
    "ExecuteTime": {
     "end_time": "2019-06-05T18:50:09.186797Z",
     "start_time": "2019-06-05T18:50:08.418471Z"
    }
   },
   "outputs": [],
   "source": [
    "grouped_race_violation = all_df.groupby(['Race', 'Violation Type']).size().astype(float)"
   ]
  },
  {
   "cell_type": "code",
   "execution_count": 10,
   "metadata": {
    "ExecuteTime": {
     "end_time": "2019-06-05T18:50:09.562654Z",
     "start_time": "2019-06-05T18:50:09.190180Z"
    }
   },
   "outputs": [
    {
     "data": {
      "text/plain": [
       "Race\n",
       "ASIAN               89675\n",
       "BLACK              484206\n",
       "HISPANIC           326826\n",
       "NATIVE AMERICAN      3168\n",
       "OTHER               83378\n",
       "WHITE              541783\n",
       "dtype: int64"
      ]
     },
     "execution_count": 10,
     "metadata": {},
     "output_type": "execute_result"
    }
   ],
   "source": [
    "all_df.groupby(['Race']).size()"
   ]
  },
  {
   "cell_type": "code",
   "execution_count": 11,
   "metadata": {
    "ExecuteTime": {
     "end_time": "2019-06-05T18:50:09.825405Z",
     "start_time": "2019-06-05T18:50:09.564542Z"
    },
    "scrolled": false
   },
   "outputs": [
    {
     "data": {
      "text/plain": [
       "A - Marked Patrol                         1267088\n",
       "Q - Marked Laser                           139542\n",
       "B - Unmarked Patrol                         48181\n",
       "S - License Plate Recognition               14509\n",
       "O - Foot Patrol                             14076\n",
       "L - Motorcycle                              13031\n",
       "E - Marked Stationary Radar                  9511\n",
       "G - Marked Moving Radar (Stationary)         8210\n",
       "R - Unmarked Laser                           6140\n",
       "I - Marked Moving Radar (Moving)             2476\n",
       "M - Marked (Off-Duty)                        2272\n",
       "H - Unmarked Moving Radar (Stationary)       1115\n",
       "F - Unmarked Stationary Radar                 837\n",
       "J - Unmarked Moving Radar (Moving)            654\n",
       "C - Marked VASCAR                             483\n",
       "P - Mounted Patrol                            338\n",
       "D - Unmarked VASCAR                           302\n",
       "N - Unmarked (Off-Duty)                       216\n",
       "K - Aircraft Assist                            55\n",
       "Name: Arrest Type, dtype: int64"
      ]
     },
     "execution_count": 11,
     "metadata": {},
     "output_type": "execute_result"
    }
   ],
   "source": [
    "all_df['Arrest Type'].value_counts()"
   ]
  },
  {
   "cell_type": "code",
   "execution_count": 12,
   "metadata": {
    "ExecuteTime": {
     "end_time": "2019-06-05T18:50:09.835143Z",
     "start_time": "2019-06-05T18:50:09.828517Z"
    }
   },
   "outputs": [
    {
     "data": {
      "text/plain": [
       "541783.0"
      ]
     },
     "execution_count": 12,
     "metadata": {},
     "output_type": "execute_result"
    }
   ],
   "source": [
    "sum(grouped_race_violation['WHITE'])"
   ]
  },
  {
   "cell_type": "code",
   "execution_count": 13,
   "metadata": {
    "ExecuteTime": {
     "end_time": "2019-06-05T18:50:09.858514Z",
     "start_time": "2019-06-05T18:50:09.837112Z"
    }
   },
   "outputs": [],
   "source": [
    "grouped_normalize = grouped_race_violation.copy()\n",
    "\n",
    "for race in grouped_race_violation.index.levels[0]:\n",
    "    race_viol = sum(grouped_race_violation[race])\n",
    "    for viol in grouped_race_violation.index.levels[1]:\n",
    "        try:\n",
    "            grouped_normalize[race][viol] = grouped_race_violation[race][viol] / float(race_viol)\n",
    "        except:\n",
    "            pass"
   ]
  },
  {
   "cell_type": "code",
   "execution_count": 14,
   "metadata": {
    "ExecuteTime": {
     "end_time": "2019-06-05T18:50:09.866843Z",
     "start_time": "2019-06-05T18:50:09.860379Z"
    },
    "scrolled": false
   },
   "outputs": [
    {
     "data": {
      "text/plain": [
       "Race             Violation Type\n",
       "ASIAN            Citation          0.377285\n",
       "                 ESERO             0.051709\n",
       "                 SERO              0.000379\n",
       "                 Warning           0.570627\n",
       "BLACK            Citation          0.466892\n",
       "                 ESERO             0.047441\n",
       "                 SERO              0.000529\n",
       "                 Warning           0.485139\n",
       "HISPANIC         Citation          0.518475\n",
       "                 ESERO             0.062510\n",
       "                 SERO              0.000826\n",
       "                 Warning           0.418189\n",
       "NATIVE AMERICAN  Citation          0.410354\n",
       "                 ESERO             0.068182\n",
       "                 Warning           0.521465\n",
       "OTHER            Citation          0.388484\n",
       "                 ESERO             0.045180\n",
       "                 SERO              0.000516\n",
       "                 Warning           0.565821\n",
       "WHITE            Citation          0.425370\n",
       "                 ESERO             0.041002\n",
       "                 SERO              0.000546\n",
       "                 Warning           0.533082\n",
       "dtype: float64"
      ]
     },
     "execution_count": 14,
     "metadata": {},
     "output_type": "execute_result"
    }
   ],
   "source": [
    "grouped_normalize"
   ]
  },
  {
   "cell_type": "code",
   "execution_count": 15,
   "metadata": {
    "ExecuteTime": {
     "end_time": "2019-06-05T18:50:10.457588Z",
     "start_time": "2019-06-05T18:50:09.869230Z"
    }
   },
   "outputs": [
    {
     "data": {
      "text/plain": [
       "Race   Arrest Type                           \n",
       "ASIAN  A - Marked Patrol                          73514.0\n",
       "       B - Unmarked Patrol                         2400.0\n",
       "       C - Marked VASCAR                             41.0\n",
       "       D - Unmarked VASCAR                           22.0\n",
       "       E - Marked Stationary Radar                  731.0\n",
       "       F - Unmarked Stationary Radar                 50.0\n",
       "       G - Marked Moving Radar (Stationary)         543.0\n",
       "       H - Unmarked Moving Radar (Stationary)        60.0\n",
       "       I - Marked Moving Radar (Moving)             114.0\n",
       "       J - Unmarked Moving Radar (Moving)            37.0\n",
       "       K - Aircraft Assist                            1.0\n",
       "       L - Motorcycle                               838.0\n",
       "       M - Marked (Off-Duty)                        169.0\n",
       "       N - Unmarked (Off-Duty)                        7.0\n",
       "       O - Foot Patrol                              800.0\n",
       "       P - Mounted Patrol                            24.0\n",
       "       Q - Marked Laser                            9530.0\n",
       "       R - Unmarked Laser                           360.0\n",
       "       S - License Plate Recognition                434.0\n",
       "BLACK  A - Marked Patrol                         414165.0\n",
       "       B - Unmarked Patrol                        14651.0\n",
       "       C - Marked VASCAR                            160.0\n",
       "       D - Unmarked VASCAR                           61.0\n",
       "       E - Marked Stationary Radar                 2323.0\n",
       "       F - Unmarked Stationary Radar                213.0\n",
       "       G - Marked Moving Radar (Stationary)        1728.0\n",
       "       H - Unmarked Moving Radar (Stationary)       229.0\n",
       "       I - Marked Moving Radar (Moving)             490.0\n",
       "       J - Unmarked Moving Radar (Moving)           163.0\n",
       "       K - Aircraft Assist                           11.0\n",
       "                                                   ...   \n",
       "OTHER  I - Marked Moving Radar (Moving)              92.0\n",
       "       J - Unmarked Moving Radar (Moving)            75.0\n",
       "       K - Aircraft Assist                            1.0\n",
       "       L - Motorcycle                               673.0\n",
       "       M - Marked (Off-Duty)                        122.0\n",
       "       N - Unmarked (Off-Duty)                        7.0\n",
       "       O - Foot Patrol                              723.0\n",
       "       P - Mounted Patrol                            20.0\n",
       "       Q - Marked Laser                            8672.0\n",
       "       R - Unmarked Laser                           567.0\n",
       "       S - License Plate Recognition                926.0\n",
       "WHITE  A - Marked Patrol                         422417.0\n",
       "       B - Unmarked Patrol                        19777.0\n",
       "       C - Marked VASCAR                            171.0\n",
       "       D - Unmarked VASCAR                          156.0\n",
       "       E - Marked Stationary Radar                 4697.0\n",
       "       F - Unmarked Stationary Radar                406.0\n",
       "       G - Marked Moving Radar (Stationary)        4298.0\n",
       "       H - Unmarked Moving Radar (Stationary)       625.0\n",
       "       I - Marked Moving Radar (Moving)            1536.0\n",
       "       J - Unmarked Moving Radar (Moving)           332.0\n",
       "       K - Aircraft Assist                           36.0\n",
       "       L - Motorcycle                              5958.0\n",
       "       M - Marked (Off-Duty)                        921.0\n",
       "       N - Unmarked (Off-Duty)                       99.0\n",
       "       O - Foot Patrol                             6629.0\n",
       "       P - Mounted Patrol                           171.0\n",
       "       Q - Marked Laser                           65421.0\n",
       "       R - Unmarked Laser                          3140.0\n",
       "       S - License Plate Recognition               4993.0\n",
       "Length: 110, dtype: float64"
      ]
     },
     "execution_count": 15,
     "metadata": {},
     "output_type": "execute_result"
    }
   ],
   "source": [
    "all_df.groupby(['Race', 'Arrest Type']).size().astype(float)"
   ]
  },
  {
   "cell_type": "code",
   "execution_count": 16,
   "metadata": {
    "ExecuteTime": {
     "end_time": "2019-06-05T18:50:10.731970Z",
     "start_time": "2019-06-05T18:50:10.459557Z"
    }
   },
   "outputs": [
    {
     "data": {
      "text/plain": [
       "A - Marked Patrol                         0.828684\n",
       "Q - Marked Laser                          0.091261\n",
       "B - Unmarked Patrol                       0.031511\n",
       "S - License Plate Recognition             0.009489\n",
       "O - Foot Patrol                           0.009206\n",
       "L - Motorcycle                            0.008522\n",
       "E - Marked Stationary Radar               0.006220\n",
       "G - Marked Moving Radar (Stationary)      0.005369\n",
       "R - Unmarked Laser                        0.004016\n",
       "I - Marked Moving Radar (Moving)          0.001619\n",
       "M - Marked (Off-Duty)                     0.001486\n",
       "H - Unmarked Moving Radar (Stationary)    0.000729\n",
       "F - Unmarked Stationary Radar             0.000547\n",
       "J - Unmarked Moving Radar (Moving)        0.000428\n",
       "C - Marked VASCAR                         0.000316\n",
       "P - Mounted Patrol                        0.000221\n",
       "D - Unmarked VASCAR                       0.000198\n",
       "N - Unmarked (Off-Duty)                   0.000141\n",
       "K - Aircraft Assist                       0.000036\n",
       "Name: Arrest Type, dtype: float64"
      ]
     },
     "execution_count": 16,
     "metadata": {},
     "output_type": "execute_result"
    }
   ],
   "source": [
    "all_df['Arrest Type'].value_counts(True)"
   ]
  },
  {
   "cell_type": "code",
   "execution_count": 17,
   "metadata": {
    "ExecuteTime": {
     "end_time": "2019-06-05T18:50:10.739479Z",
     "start_time": "2019-06-05T18:50:10.734122Z"
    }
   },
   "outputs": [
    {
     "data": {
      "text/plain": [
       "1529036"
      ]
     },
     "execution_count": 17,
     "metadata": {},
     "output_type": "execute_result"
    }
   ],
   "source": [
    "len(all_df)"
   ]
  },
  {
   "cell_type": "code",
   "execution_count": 18,
   "metadata": {
    "ExecuteTime": {
     "end_time": "2019-06-05T18:50:11.285401Z",
     "start_time": "2019-06-05T18:50:10.741645Z"
    }
   },
   "outputs": [],
   "source": [
    "descrips = all_df.Description.value_counts()"
   ]
  },
  {
   "cell_type": "code",
   "execution_count": 19,
   "metadata": {
    "ExecuteTime": {
     "end_time": "2019-06-05T18:50:11.299806Z",
     "start_time": "2019-06-05T18:50:11.287292Z"
    }
   },
   "outputs": [
    {
     "data": {
      "text/plain": [
       "DRIVER FAILURE TO OBEY PROPERLY PLACED TRAFFIC CONTROL DEVICE INSTRUCTIONS                              125683\n",
       "FAILURE TO DISPLAY REGISTRATION CARD UPON DEMAND BY POLICE OFFICER                                       71761\n",
       "DRIVING VEHICLE ON HIGHWAY WITH SUSPENDED REGISTRATION                                                   48988\n",
       "FAILURE OF INDIVIDUAL DRIVING ON HIGHWAY TO DISPLAY LICENSE TO UNIFORMED POLICE ON DEMAND                39953\n",
       "DRIVER USING HANDS TO USE HANDHELD TELEPHONE WHILEMOTOR VEHICLE IS IN MOTION                             37487\n",
       "DISPLAYING EXPIRED REGISTRATION PLATE ISSUED BY ANY STATE                                                36176\n",
       "DRIVER FAILURE TO STOP AT STOP SIGN LINE                                                                 34753\n",
       "PERSON DRIVING MOTOR VEHICLE ON HIGHWAY OR PUBLIC USE PROPERTY ON SUSPENDED LICENSE AND PRIVILEGE        30109\n",
       "DRIVING VEHICLE ON HIGHWAY WITHOUT CURRENT REGISTRATION PLATES AND VALIDATION TABS                       25113\n",
       "EXCEEDING THE POSTED SPEED LIMIT OF 40 MPH                                                               24260\n",
       "EXCEEDING THE POSTED SPEED LIMIT OF 30 MPH                                                               23584\n",
       "FAILURE OF VEH. ON HWY. TO DISPLAY LIGHTED LAMPS, ILLUMINATING DEVICE IN UNFAVORABLE VISIBILITY COND     21538\n",
       "STOP LIGHTS (*)                                                                                          21128\n",
       "DRIVING MOTOR VEHICLE ON HIGHWAY WITHOUT REQUIRED LICENSE AND AUTHORIZATION                              20437\n",
       "NEGLIGENT DRIVING VEHICLE IN CARELESS AND IMPRUDENT MANNER ENDANGERING PROPERTY, LIFE AND PERSON         20399\n",
       "DRIVER CHANGING LANES WHEN UNSAFE                                                                        20397\n",
       "EXCEEDING THE POSTED SPEED LIMIT OF 35 MPH                                                               19287\n",
       "DRIVING VEHICLE WHILE UNDER THE INFLUENCE OF ALCOHOL                                                     18708\n",
       "OPERATOR NOT RESTRAINED BY SEATBELT                                                                      18344\n",
       "DRIVING VEH. W/O ADEQUATE REAR REG. PLATE ILLUMINATION                                                   17466\n",
       "FAILURE OF LICENSEE TO NOTIFY ADMINISTRATION OF CHANGE OF ADDRESS WITHIN 30 DAYS                         17212\n",
       "DRIVER FAILURE TO STOP AT STEADY CIRCULAR RED SIGNAL                                                     16881\n",
       "FAILURE TO ATTACH VEHICLE REGISTRATION PLATES AT FRONT AND REAR                                          16337\n",
       "FAILURE TO DISPLAY TWO LIGHTED FRONT LAMPS WHEN REQUIRED                                                 15712\n",
       "DRIVER FAIL TO STOP AT FLASHING RED TRAFFIC SIGNAL STOP LINE                                             15334\n",
       "DRIVING WHILE IMPAIRED BY ALCOHOL                                                                        15099\n",
       "FAILURE TO STOP AT STOP SIGN                                                                             15090\n",
       "FAILURE TO CONTROL VEHICLE SPEED ON HIGHWAY TO AVOID COLLISION                                           14090\n",
       "DRIVING VEH. ON HWY. W/O REQUIRED MINIMUM EQUIPMENT                                                      13932\n",
       "OPERATING VEHICLE ON HIGHWAY WITH UNAUTHORIZED WINDOW TINTING MATERIAL                                   13574\n",
       "                                                                                                         ...  \n",
       "PERSON DRIVING ON HWY. VEH.,  WITH VISIBLE RED, BLUE DEVICE                                                  1\n",
       "DRIVING VEHICLE IN EXCESS OF REASONABLE AND PRUDENT SPEED ON HIGHWAY 39 IN 30                                1\n",
       "DRIVING VEHICLE IN EXCESS OF REASONABLE AND PRUDENT SPEED ON HIGHWAY 55MPH ZONE                              1\n",
       "WINDOW GLAZING DAMAGED: WINDSHIELD                                                                           1\n",
       "DRIVER FAIL TO COMPLY WITH LOCAL LAWS-MUD FLAPS IMPROPER LENGTH/DAMAGED                                      1\n",
       "DRIVING VEH.ON HWY WITH BRAKE LAMP IMPROPERLY DISPLAYING WHITE LIGHT FROM REAR                               1\n",
       "FAILURE TO MAINTAIN LEGIBLE REGISTRATION PLATE FREE FROM EAGLE BRACKET                                       1\n",
       "HEADLIGHT- LEFT LOW BEAM INOPERATIVE                                                                         1\n",
       "DRIVING WITH SUSP REG                                                                                        1\n",
       "WILLFULLY DISOBEYING LAWFUL ORDER, DIRECTION) OF A POLICE OFFICER                                            1\n",
       "DRIVING VEHICLE IN EXCESS OF REASONABLE AND PRUDENT SPEED ON HIGHWAY 50+/35                                  1\n",
       "PERSON CARRYING LOOSE MATERIAL IN VEH ON HWY.                                                                1\n",
       "DRIVER BACKING MOTOR VEH. ON roadway) OF CONTROLLED ACCESS HWY.                                              1\n",
       "OPERATING MOTOR VEHICLE WITH FABRIC EXPOSED THROUGH  SIDEWALL OF TIRE                                        1\n",
       "STANDING, PARKING VEH. WITHIN PROHIBITED FIRE STATION DRIVEWAY ENTRANCE ZONE                                 1\n",
       "EXCEEDING SPEED LIMIT IN SCHOOL ZONE WITH FLASHING LIGHTS/NOTICE OF DOUBLE FINES: 53 MPH IN 35 ZONE          1\n",
       "PERSON DRIVING ON HWY.VEH.,WITH VISIBLE  BLUE LAMP,                                                          1\n",
       "NO WINDSHIELD WIPER WASHER FLUID                                                                             1\n",
       "DRIVING VEHICLE IN EXCESS OF REASONABLE AND PRUDENT SPEED ON HIGHWAY 55 / 30                                 1\n",
       "MODIFYING EXHAUST SYSTEM ON MOTOR VEH. CAUSING EXCESSIVE NOISE                                               1\n",
       "THROWING, DUMPING, ANY REFUSEON HWY.                                                                         1\n",
       "DISPLAY CURR REG CARD                                                                                        1\n",
       "DRIVING MOTOR VEH. ON HWY. & PUBLICLY USED PRIVATE PLACE WEARING EARPLUGS IN BOTH EARS                       1\n",
       "FAILURE TO REDUCE SPEED IN DANGEROUS  WEATHER, HIGHWAY CONDITIONS)                                           1\n",
       "DRIVER OF A CLASS H VEH CARRYING PASSENGERS AND INMOTION USING HANDHELD PHONE SECONDARY ACTION               1\n",
       "PEDESTRIAN FAIL TO OBESIGNAL                                                                                 1\n",
       "DRIVER WRITING,SENDING,READING A T EXT,ELECTRONIC MSG. WHILE OPER. VEH. IN TRAVEL PORTION OF HWY             1\n",
       "FAILURE TO APPLY FOR CORRECTED TITLE CERT. UPON NAME CHANGE                                                  1\n",
       "DRIVING VEHICLE IN EXCESS OF REASONABLE AND PRUDENT SPEED ON HIGHWAY 60 MPH IN 35 MPH                        1\n",
       "DRIVER FAIL TO COMPLY WITH LOCAL LAWS- NO CMV OVER  4 WHEELS OR 6 TONS                                       1\n",
       "Name: Description, Length: 13987, dtype: int64"
      ]
     },
     "execution_count": 19,
     "metadata": {},
     "output_type": "execute_result"
    }
   ],
   "source": [
    "descrips"
   ]
  },
  {
   "cell_type": "code",
   "execution_count": 20,
   "metadata": {
    "ExecuteTime": {
     "end_time": "2019-06-05T18:50:11.307118Z",
     "start_time": "2019-06-05T18:50:11.301530Z"
    }
   },
   "outputs": [
    {
     "data": {
      "text/plain": [
       "21.0"
      ]
     },
     "execution_count": 20,
     "metadata": {},
     "output_type": "execute_result"
    }
   ],
   "source": [
    "np.percentile(descrips.values, 90, axis=0)"
   ]
  },
  {
   "cell_type": "code",
   "execution_count": 21,
   "metadata": {
    "ExecuteTime": {
     "end_time": "2019-06-05T18:50:11.648279Z",
     "start_time": "2019-06-05T18:50:11.308705Z"
    }
   },
   "outputs": [],
   "source": [
    "import matplotlib.pyplot as plt\n",
    "%matplotlib inline"
   ]
  },
  {
   "cell_type": "code",
   "execution_count": 22,
   "metadata": {
    "ExecuteTime": {
     "end_time": "2019-06-05T18:50:20.645308Z",
     "start_time": "2019-06-05T18:50:11.653903Z"
    }
   },
   "outputs": [],
   "source": [
    "a = sorted(descrips.values)\n",
    "cumsum_descrips = [sum(a[:i]) for i in range(len(a))]\n",
    "#cumsum_descrips"
   ]
  },
  {
   "cell_type": "code",
   "execution_count": 23,
   "metadata": {
    "ExecuteTime": {
     "end_time": "2019-06-05T18:50:20.970549Z",
     "start_time": "2019-06-05T18:50:20.648339Z"
    }
   },
   "outputs": [
    {
     "data": {
      "text/plain": [
       "[<matplotlib.lines.Line2D at 0x113f159e8>]"
      ]
     },
     "execution_count": 23,
     "metadata": {},
     "output_type": "execute_result"
    },
    {
     "data": {
      "image/png": "[encoded data removed]",
      "text/plain": [
       "<Figure size 432x288 with 1 Axes>"
      ]
     },
     "metadata": {
      "needs_background": "light"
     },
     "output_type": "display_data"
    }
   ],
   "source": [
    "x_percentile = (np.array(range(len(a)))+1)/len(a)\n",
    "\n",
    "\n",
    "plt.plot(x_percentile, cumsum_descrips)"
   ]
  },
  {
   "cell_type": "code",
   "execution_count": 24,
   "metadata": {
    "ExecuteTime": {
     "end_time": "2019-06-05T18:50:21.222406Z",
     "start_time": "2019-06-05T18:50:20.972003Z"
    }
   },
   "outputs": [
    {
     "data": {
      "text/plain": [
       "'FAILURE TO DISPLAY REGISTRATION CARD UPON DEMAND BY POLICE OFFICER'"
      ]
     },
     "execution_count": 24,
     "metadata": {},
     "output_type": "execute_result"
    }
   ],
   "source": [
    "all_df.Description.value_counts().index[1]"
   ]
  },
  {
   "cell_type": "code",
   "execution_count": 25,
   "metadata": {
    "ExecuteTime": {
     "end_time": "2019-06-05T18:50:22.176902Z",
     "start_time": "2019-06-05T18:50:21.224264Z"
    }
   },
   "outputs": [
    {
     "data": {
      "text/plain": [
       "Race\n",
       "ASIAN               5100\n",
       "BLACK              24133\n",
       "HISPANIC           13885\n",
       "NATIVE AMERICAN      141\n",
       "OTHER               4031\n",
       "WHITE              24471\n",
       "dtype: int64"
      ]
     },
     "execution_count": 25,
     "metadata": {},
     "output_type": "execute_result"
    }
   ],
   "source": [
    "viol_type = 'FAILURE TO DISPLAY REGISTRATION CARD UPON DEMAND BY POLICE OFFICER'\n",
    "\n",
    "all_df[all_df['Description'].isin([viol_type])].groupby('Race').size()"
   ]
  },
  {
   "cell_type": "code",
   "execution_count": 26,
   "metadata": {
    "ExecuteTime": {
     "end_time": "2019-06-05T18:50:22.987481Z",
     "start_time": "2019-06-05T18:50:22.179582Z"
    }
   },
   "outputs": [
    {
     "data": {
      "text/plain": [
       "(5000, 41)"
      ]
     },
     "execution_count": 26,
     "metadata": {},
     "output_type": "execute_result"
    }
   ],
   "source": [
    "sql_all = '''\n",
    "SELECT * FROM traffic\n",
    "WHERE race = 'BLACK'\n",
    "ORDER BY RANDOM() \n",
    "LIMIT 5000\n",
    "'''\n",
    "df_black = pd.read_sql_query(sql_all, conn)\n",
    "df_black.shape"
   ]
  },
  {
   "cell_type": "code",
   "execution_count": 27,
   "metadata": {
    "ExecuteTime": {
     "end_time": "2019-06-05T18:50:23.710204Z",
     "start_time": "2019-06-05T18:50:22.989421Z"
    }
   },
   "outputs": [
    {
     "data": {
      "text/plain": [
       "(5000, 41)"
      ]
     },
     "execution_count": 27,
     "metadata": {},
     "output_type": "execute_result"
    }
   ],
   "source": [
    "sql_all = '''\n",
    "SELECT * FROM traffic\n",
    "WHERE race = 'HISPANIC'\n",
    "ORDER BY RANDOM() \n",
    "LIMIT 5000\n",
    "'''\n",
    "df_hispanic = pd.read_sql_query(sql_all, conn)\n",
    "df_hispanic.shape"
   ]
  },
  {
   "cell_type": "code",
   "execution_count": 28,
   "metadata": {
    "ExecuteTime": {
     "end_time": "2019-06-05T18:50:24.133794Z",
     "start_time": "2019-06-05T18:50:23.711787Z"
    }
   },
   "outputs": [],
   "source": [
    "from scipy.stats import ttest_ind"
   ]
  },
  {
   "cell_type": "code",
   "execution_count": 29,
   "metadata": {
    "ExecuteTime": {
     "end_time": "2019-06-05T18:50:24.141001Z",
     "start_time": "2019-06-05T18:50:24.135858Z"
    }
   },
   "outputs": [],
   "source": [
    "black_citation_sample = (df_black['Violation Type'] == 'Citation')*1\n",
    "mu_black = sum(black_citation_sample) / len(black_citation_sample)"
   ]
  },
  {
   "cell_type": "code",
   "execution_count": 30,
   "metadata": {
    "ExecuteTime": {
     "end_time": "2019-06-05T18:50:24.149007Z",
     "start_time": "2019-06-05T18:50:24.143120Z"
    }
   },
   "outputs": [],
   "source": [
    "hispanic_citation_sample = (df_hispanic['Violation Type'] == 'Citation')*1\n",
    "mu_hispanic = sum(hispanic_citation_sample) / len(hispanic_citation_sample)"
   ]
  },
  {
   "cell_type": "code",
   "execution_count": 31,
   "metadata": {
    "ExecuteTime": {
     "end_time": "2019-06-05T18:50:24.156869Z",
     "start_time": "2019-06-05T18:50:24.150883Z"
    }
   },
   "outputs": [
    {
     "data": {
      "text/plain": [
       "Ttest_indResult(statistic=-3.9637808348644588, pvalue=7.428536324697079e-05)"
      ]
     },
     "execution_count": 31,
     "metadata": {},
     "output_type": "execute_result"
    }
   ],
   "source": [
    "ttest_ind(black_citation_sample, hispanic_citation_sample, equal_var=False)"
   ]
  },
  {
   "cell_type": "code",
   "execution_count": 75,
   "metadata": {
    "ExecuteTime": {
     "end_time": "2019-06-05T21:04:00.843761Z",
     "start_time": "2019-06-05T21:04:00.838732Z"
    }
   },
   "outputs": [],
   "source": [
    "def sample_from_traffic(n_sample, connection, race=None, gender=None):\n",
    "    \"\"\"Returns a random sample from the specified sqlite db connection, from the table called traffic.\n",
    "    Order is randomized.\n",
    "    Can specify a race to filter on.\n",
    "    Prints the equivalent SQL query.\n",
    "    Returns the dataframe result of the SQL query\"\"\"\n",
    "    var_count = 0\n",
    "    if race:\n",
    "        condition = \"WHERE race ='{}'\".format(race.upper())\n",
    "        var_count += 1\n",
    "    else:\n",
    "        condition = \"--\"\n",
    "    if gender:\n",
    "        if var_count > 0:\n",
    "            condition = condition + \"\"\"\n",
    "            AND Gender = '{}'\"\"\".format(gender.upper()[0])\n",
    "        else:\n",
    "            condition = \"WHERE gender ='{}'\".format(gender.upper()[0])\n",
    "    sql_str = '''\n",
    "        SELECT * FROM traffic\n",
    "        {0}\n",
    "        ORDER BY RANDOM() \n",
    "        LIMIT {1}\n",
    "        '''.format(condition, n_sample)\n",
    "    print(sql_str)\n",
    "    df = pd.read_sql_query(sql_str, connection)\n",
    "    return df"
   ]
  },
  {
   "cell_type": "code",
   "execution_count": 77,
   "metadata": {
    "ExecuteTime": {
     "end_time": "2019-06-05T21:04:22.786653Z",
     "start_time": "2019-06-05T21:04:18.192373Z"
    }
   },
   "outputs": [
    {
     "name": "stdout",
     "output_type": "stream",
     "text": [
      "\n",
      "        SELECT * FROM traffic\n",
      "        WHERE race ='WHITE'\n",
      "        ORDER BY RANDOM() \n",
      "        LIMIT 5000\n",
      "        \n",
      "\n",
      "        SELECT * FROM traffic\n",
      "        WHERE race ='BLACK'\n",
      "        ORDER BY RANDOM() \n",
      "        LIMIT 5000\n",
      "        \n",
      "\n",
      "        SELECT * FROM traffic\n",
      "        WHERE race ='HISPANIC'\n",
      "        ORDER BY RANDOM() \n",
      "        LIMIT 5000\n",
      "        \n",
      "\n",
      "        SELECT * FROM traffic\n",
      "        WHERE race ='ASIAN'\n",
      "        ORDER BY RANDOM() \n",
      "        LIMIT 5000\n",
      "        \n",
      "\n",
      "        SELECT * FROM traffic\n",
      "        WHERE race ='OTHER'\n",
      "        ORDER BY RANDOM() \n",
      "        LIMIT 5000\n",
      "        \n"
     ]
    },
    {
     "data": {
      "text/html": [
       "<table class=\"simpletable\">\n",
       "<caption>OLS Regression Results</caption>\n",
       "<tr>\n",
       "  <th>Dep. Variable:</th>     <td>Violation Type</td>  <th>  R-squared:         </th> <td>   0.012</td> \n",
       "</tr>\n",
       "<tr>\n",
       "  <th>Model:</th>                   <td>OLS</td>       <th>  Adj. R-squared:    </th> <td>   0.012</td> \n",
       "</tr>\n",
       "<tr>\n",
       "  <th>Method:</th>             <td>Least Squares</td>  <th>  F-statistic:       </th> <td>   75.64</td> \n",
       "</tr>\n",
       "<tr>\n",
       "  <th>Date:</th>             <td>Wed, 05 Jun 2019</td> <th>  Prob (F-statistic):</th> <td>7.49e-64</td> \n",
       "</tr>\n",
       "<tr>\n",
       "  <th>Time:</th>                 <td>17:04:22</td>     <th>  Log-Likelihood:    </th> <td> -17753.</td> \n",
       "</tr>\n",
       "<tr>\n",
       "  <th>No. Observations:</th>      <td> 25000</td>      <th>  AIC:               </th> <td>3.552e+04</td>\n",
       "</tr>\n",
       "<tr>\n",
       "  <th>Df Residuals:</th>          <td> 24995</td>      <th>  BIC:               </th> <td>3.556e+04</td>\n",
       "</tr>\n",
       "<tr>\n",
       "  <th>Df Model:</th>              <td>     4</td>      <th>                     </th>     <td> </td>    \n",
       "</tr>\n",
       "<tr>\n",
       "  <th>Covariance Type:</th>      <td>nonrobust</td>    <th>                     </th>     <td> </td>    \n",
       "</tr>\n",
       "</table>\n",
       "<table class=\"simpletable\">\n",
       "<tr>\n",
       "        <td></td>           <th>coef</th>     <th>std err</th>      <th>t</th>      <th>P>|t|</th>  <th>[0.025</th>    <th>0.975]</th>  \n",
       "</tr>\n",
       "<tr>\n",
       "  <th>const</th>         <td>    0.4290</td> <td>    0.007</td> <td>   61.621</td> <td> 0.000</td> <td>    0.415</td> <td>    0.443</td>\n",
       "</tr>\n",
       "<tr>\n",
       "  <th>Race_ASIAN</th>    <td>   -0.0700</td> <td>    0.010</td> <td>   -7.110</td> <td> 0.000</td> <td>   -0.089</td> <td>   -0.051</td>\n",
       "</tr>\n",
       "<tr>\n",
       "  <th>Race_BLACK</th>    <td>    0.0384</td> <td>    0.010</td> <td>    3.900</td> <td> 0.000</td> <td>    0.019</td> <td>    0.058</td>\n",
       "</tr>\n",
       "<tr>\n",
       "  <th>Race_HISPANIC</th> <td>    0.0816</td> <td>    0.010</td> <td>    8.288</td> <td> 0.000</td> <td>    0.062</td> <td>    0.101</td>\n",
       "</tr>\n",
       "<tr>\n",
       "  <th>Race_OTHER</th>    <td>   -0.0406</td> <td>    0.010</td> <td>   -4.124</td> <td> 0.000</td> <td>   -0.060</td> <td>   -0.021</td>\n",
       "</tr>\n",
       "</table>\n",
       "<table class=\"simpletable\">\n",
       "<tr>\n",
       "  <th>Omnibus:</th>       <td>302.786</td> <th>  Durbin-Watson:     </th> <td>   1.996</td>\n",
       "</tr>\n",
       "<tr>\n",
       "  <th>Prob(Omnibus):</th> <td> 0.000</td>  <th>  Jarque-Bera (JB):  </th> <td>3978.069</td>\n",
       "</tr>\n",
       "<tr>\n",
       "  <th>Skew:</th>          <td> 0.274</td>  <th>  Prob(JB):          </th> <td>    0.00</td>\n",
       "</tr>\n",
       "<tr>\n",
       "  <th>Kurtosis:</th>      <td> 1.124</td>  <th>  Cond. No.          </th> <td>    5.83</td>\n",
       "</tr>\n",
       "</table><br/><br/>Warnings:<br/>[1] Standard Errors assume that the covariance matrix of the errors is correctly specified."
      ],
      "text/plain": [
       "<class 'statsmodels.iolib.summary.Summary'>\n",
       "\"\"\"\n",
       "                            OLS Regression Results                            \n",
       "==============================================================================\n",
       "Dep. Variable:         Violation Type   R-squared:                       0.012\n",
       "Model:                            OLS   Adj. R-squared:                  0.012\n",
       "Method:                 Least Squares   F-statistic:                     75.64\n",
       "Date:                Wed, 05 Jun 2019   Prob (F-statistic):           7.49e-64\n",
       "Time:                        17:04:22   Log-Likelihood:                -17753.\n",
       "No. Observations:               25000   AIC:                         3.552e+04\n",
       "Df Residuals:                   24995   BIC:                         3.556e+04\n",
       "Df Model:                           4                                         \n",
       "Covariance Type:            nonrobust                                         \n",
       "=================================================================================\n",
       "                    coef    std err          t      P>|t|      [0.025      0.975]\n",
       "---------------------------------------------------------------------------------\n",
       "const             0.4290      0.007     61.621      0.000       0.415       0.443\n",
       "Race_ASIAN       -0.0700      0.010     -7.110      0.000      -0.089      -0.051\n",
       "Race_BLACK        0.0384      0.010      3.900      0.000       0.019       0.058\n",
       "Race_HISPANIC     0.0816      0.010      8.288      0.000       0.062       0.101\n",
       "Race_OTHER       -0.0406      0.010     -4.124      0.000      -0.060      -0.021\n",
       "==============================================================================\n",
       "Omnibus:                      302.786   Durbin-Watson:                   1.996\n",
       "Prob(Omnibus):                  0.000   Jarque-Bera (JB):             3978.069\n",
       "Skew:                           0.274   Prob(JB):                         0.00\n",
       "Kurtosis:                       1.124   Cond. No.                         5.83\n",
       "==============================================================================\n",
       "\n",
       "Warnings:\n",
       "[1] Standard Errors assume that the covariance matrix of the errors is correctly specified.\n",
       "\"\"\""
      ]
     },
     "execution_count": 77,
     "metadata": {},
     "output_type": "execute_result"
    }
   ],
   "source": [
    "df_white = sample_from_traffic(5000, conn, 'White')\n",
    "df_black = sample_from_traffic(5000, conn, 'Black')\n",
    "df_hispanic = sample_from_traffic(5000, conn, 'Hispanic')\n",
    "df_asian = sample_from_traffic(5000, conn, 'Asian')\n",
    "df_other = sample_from_traffic(5000, conn, 'other')\n",
    "\n",
    "df_race_sample = pd.concat([df_white, df_asian, df_black, df_hispanic, df_other])\n",
    "\n",
    "\n",
    "X = pd.get_dummies(df_race_sample['Race'], prefix='Race')\n",
    "X = X.drop(columns='Race_WHITE')\n",
    "y = (df_race_sample['Violation Type'] == 'Citation')*1\n",
    "y.columns = ['Citation']\n",
    "\n",
    "X = sm.add_constant(X)\n",
    "\n",
    "model_init = sm.OLS(y, X).fit()\n",
    "model_init.summary()"
   ]
  },
  {
   "cell_type": "code",
   "execution_count": 40,
   "metadata": {
    "ExecuteTime": {
     "end_time": "2019-06-05T18:54:34.868610Z",
     "start_time": "2019-06-05T18:54:34.163287Z"
    }
   },
   "outputs": [
    {
     "name": "stdout",
     "output_type": "stream",
     "text": [
      "\n",
      "        SELECT * FROM traffic\n",
      "        --\n",
      "        ORDER BY RANDOM() \n",
      "        LIMIT 5000\n",
      "        \n"
     ]
    }
   ],
   "source": [
    "df_test = sample_from_traffic(5000, conn)"
   ]
  },
  {
   "cell_type": "code",
   "execution_count": 43,
   "metadata": {
    "ExecuteTime": {
     "end_time": "2019-06-05T18:55:57.612069Z",
     "start_time": "2019-06-05T18:55:57.600459Z"
    }
   },
   "outputs": [
    {
     "data": {
      "text/plain": [
       "WHITE              1778\n",
       "BLACK              1585\n",
       "HISPANIC           1039\n",
       "OTHER               297\n",
       "ASIAN               290\n",
       "NATIVE AMERICAN      11\n",
       "Name: Race, dtype: int64"
      ]
     },
     "execution_count": 43,
     "metadata": {},
     "output_type": "execute_result"
    }
   ],
   "source": [
    "df_test.Race.value_counts()"
   ]
  },
  {
   "cell_type": "code",
   "execution_count": 49,
   "metadata": {
    "ExecuteTime": {
     "end_time": "2019-06-05T19:10:12.888176Z",
     "start_time": "2019-06-05T19:10:09.652822Z"
    }
   },
   "outputs": [
    {
     "data": {
      "text/plain": [
       "count                 1529036\n",
       "unique                   2710\n",
       "top       2015-03-17 00:00:00\n",
       "freq                     1281\n",
       "first     2012-01-01 00:00:00\n",
       "last      2019-06-03 00:00:00\n",
       "Name: Date Of Stop, dtype: object"
      ]
     },
     "execution_count": 49,
     "metadata": {},
     "output_type": "execute_result"
    }
   ],
   "source": [
    "pd.to_datetime(all_df['Date Of Stop'], format='%m/%d/%Y').describe()"
   ]
  },
  {
   "cell_type": "code",
   "execution_count": 62,
   "metadata": {
    "ExecuteTime": {
     "end_time": "2019-06-05T19:16:02.927601Z",
     "start_time": "2019-06-05T19:16:02.922447Z"
    }
   },
   "outputs": [],
   "source": [
    "import datetime"
   ]
  },
  {
   "cell_type": "code",
   "execution_count": 65,
   "metadata": {
    "ExecuteTime": {
     "end_time": "2019-06-05T19:17:35.241737Z",
     "start_time": "2019-06-05T19:17:31.870192Z"
    }
   },
   "outputs": [
    {
     "data": {
      "image/png": "[encoded data removed]",
      "text/plain": [
       "<Figure size 1152x432 with 1 Axes>"
      ]
     },
     "metadata": {
      "needs_background": "light"
     },
     "output_type": "display_data"
    }
   ],
   "source": [
    "fig = plt.figure(figsize=(16, 6))\n",
    "plt.hist(pd.to_datetime(all_df['Date Of Stop'], format='%m/%d/%Y'), bins=88);\n",
    "#plt.xlim(datetime.date(2016,1,1))"
   ]
  },
  {
   "cell_type": "code",
   "execution_count": 68,
   "metadata": {
    "ExecuteTime": {
     "end_time": "2019-06-05T19:24:19.388570Z",
     "start_time": "2019-06-05T19:24:18.680749Z"
    }
   },
   "outputs": [
    {
     "data": {
      "text/plain": [
       "BLACK          311612\n",
       "SILVER         279662\n",
       "WHITE          237891\n",
       "GRAY           172294\n",
       "RED            119343\n",
       "BLUE           111576\n",
       "GREEN           54812\n",
       "GOLD            46992\n",
       "BLUE, DARK      32123\n",
       "TAN             30408\n",
       "MAROON          25856\n",
       "BLUE, LIGHT     19699\n",
       "BEIGE           17040\n",
       "N/A             16362\n",
       "GREEN, DK       15944\n",
       "GREEN, LGT       8441\n",
       "BROWN            6932\n",
       "YELLOW           5684\n",
       "ORANGE           5417\n",
       "BRONZE           3477\n",
       "PURPLE           2907\n",
       "                 1746\n",
       "MULTICOLOR       1157\n",
       "CREAM             912\n",
       "COPPER            469\n",
       "PINK              211\n",
       "CHROME             41\n",
       "CAMOUFLAGE         28\n",
       "Name: Color, dtype: int64"
      ]
     },
     "execution_count": 68,
     "metadata": {},
     "output_type": "execute_result"
    }
   ],
   "source": [
    "all_df.Color.value_counts()"
   ]
  },
  {
   "cell_type": "code",
   "execution_count": null,
   "metadata": {},
   "outputs": [],
   "source": []
  }
 ],
 "metadata": {
  "kernelspec": {
   "display_name": "Python 3",
   "language": "python",
   "name": "python3"
  },
  "language_info": {
   "codemirror_mode": {
    "name": "ipython",
    "version": 3
   },
   "file_extension": ".py",
   "mimetype": "text/x-python",
   "name": "python",
   "nbconvert_exporter": "python",
   "pygments_lexer": "ipython3",
   "version": "3.6.6"
  },
  "toc": {
   "base_numbering": 1,
   "nav_menu": {},
   "number_sections": true,
   "sideBar": true,
   "skip_h1_title": false,
   "title_cell": "Table of Contents",
   "title_sidebar": "Contents",
   "toc_cell": false,
   "toc_position": {},
   "toc_section_display": true,
   "toc_window_display": false
  },
  "varInspector": {
   "cols": {
    "lenName": 16,
    "lenType": 16,
    "lenVar": 40
   },
   "kernels_config": {
    "python": {
     "delete_cmd_postfix": "",
     "delete_cmd_prefix": "del ",
     "library": "var_list.py",
     "varRefreshCmd": "print(var_dic_list())"
    },
    "r": {
     "delete_cmd_postfix": ") ",
     "delete_cmd_prefix": "rm(",
     "library": "var_list.r",
     "varRefreshCmd": "cat(var_dic_list()) "
    }
   },
   "position": {
    "height": "450px",
    "left": "216px",
    "right": "20px",
    "top": "120px",
    "width": "587px"
   },
   "types_to_exclude": [
    "module",
    "function",
    "builtin_function_or_method",
    "instance",
    "_Feature"
   ],
   "window_display": false
  }
 },
 "nbformat": 4,
 "nbformat_minor": 2
}
